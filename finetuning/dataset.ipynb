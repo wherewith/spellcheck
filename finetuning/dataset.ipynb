{
 "cells": [
  {
   "cell_type": "code",
   "execution_count": null,
   "id": "65a8b321",
   "metadata": {},
   "outputs": [],
   "source": [
    "import numpy as np\n",
    "import matplotlib.pyplot as plt\n",
    "import pandas as pd\n",
    "import torch"
   ]
  },
  {
   "cell_type": "code",
   "execution_count": null,
   "id": "6a778171",
   "metadata": {},
   "outputs": [],
   "source": [
    "df_formal = pd.read_fwf('./styledata/train/formal', header=None, names=['Text'])\n",
    "df_informal = pd.read_fwf('./styledata/train/informal', header=None, names=['Text'])\n",
    "formal = df_formal['Text'].tolist()\n",
    "informal = df_informal['Text'].tolist()"
   ]
  }
 ],
 "metadata": {
  "kernelspec": {
   "display_name": "venv",
   "language": "python",
   "name": "python3"
  },
  "language_info": {
   "name": "python",
   "version": "3.10.6"
  }
 },
 "nbformat": 4,
 "nbformat_minor": 5
}
